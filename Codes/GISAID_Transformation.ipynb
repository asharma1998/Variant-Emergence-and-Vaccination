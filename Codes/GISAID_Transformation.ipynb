{
 "cells": [
  {
   "cell_type": "code",
   "execution_count": 13,
   "id": "04a9f7f9",
   "metadata": {},
   "outputs": [],
   "source": [
    "import pandas as pd\n",
    "\n",
    "# Load the Excel file\n",
    "file_path = 'gisaid_variants_statistics_2023_04_22_1744.xlsx'\n",
    "excel_data = pd.ExcelFile(file_path)\n",
    "\n",
    "# Initialize an empty DataFrame to store the final data\n",
    "final_df = pd.DataFrame(columns=['Country', 'Attribute', 'Value', 'Variant'])\n",
    "\n"
   ]
  },
  {
   "cell_type": "code",
   "execution_count": 14,
   "id": "113476ed",
   "metadata": {},
   "outputs": [
    {
     "name": "stdout",
     "output_type": "stream",
     "text": [
      "df_Omicron created\n",
      "df_Delta created\n",
      "df_Alpha created\n",
      "df_Beta created\n",
      "df_Gamma created\n",
      "df_Epsilon created\n",
      "df_Zeta created\n",
      "df_Eta created\n",
      "df_Theta created\n",
      "df_Iota created\n",
      "df_Kappa created\n",
      "df_Lambda created\n"
     ]
    }
   ],
   "source": [
    "for i, sheet_name in enumerate(excel_data.sheet_names[1:], start=1):\n",
    "    # Read the sheet into a DataFrame\n",
    "    df = pd.read_excel(excel_data, sheet_name=sheet_name)\n",
    "    \n",
    "    # Extract the variant name from the sheet name\n",
    "    variant_name = sheet_name.split()[-1]\n",
    "    \n",
    "    # Create a variable with the variant name and assign the DataFrame to it\n",
    "    globals()[f'df_{variant_name}'] = df\n",
    "    # Print the variant name or store it somewhere if needed\n",
    "    print(f'df_{variant_name} created')"
   ]
  },
  {
   "cell_type": "code",
   "execution_count": 18,
   "id": "1e1e5f91",
   "metadata": {},
   "outputs": [
    {
     "name": "stderr",
     "output_type": "stream",
     "text": [
      "C:\\Users\\sharm\\AppData\\Local\\Temp\\ipykernel_4344\\4205344510.py:25: FutureWarning: A value is trying to be set on a copy of a DataFrame or Series through chained assignment using an inplace method.\n",
      "The behavior will change in pandas 3.0. This inplace method will never work because the intermediate object on which we are setting values always behaves as a copy.\n",
      "\n",
      "For example, when doing 'df[col].method(value, inplace=True)', try using 'df.method({col: value}, inplace=True)' or df[col] = df[col].method(value) instead, to perform the operation inplace on the original object.\n",
      "\n",
      "\n",
      "  df['Value'].fillna(0, inplace=True)\n",
      "C:\\Users\\sharm\\AppData\\Local\\Temp\\ipykernel_4344\\4205344510.py:25: FutureWarning: A value is trying to be set on a copy of a DataFrame or Series through chained assignment using an inplace method.\n",
      "The behavior will change in pandas 3.0. This inplace method will never work because the intermediate object on which we are setting values always behaves as a copy.\n",
      "\n",
      "For example, when doing 'df[col].method(value, inplace=True)', try using 'df.method({col: value}, inplace=True)' or df[col] = df[col].method(value) instead, to perform the operation inplace on the original object.\n",
      "\n",
      "\n",
      "  df['Value'].fillna(0, inplace=True)\n",
      "C:\\Users\\sharm\\AppData\\Local\\Temp\\ipykernel_4344\\4205344510.py:25: FutureWarning: A value is trying to be set on a copy of a DataFrame or Series through chained assignment using an inplace method.\n",
      "The behavior will change in pandas 3.0. This inplace method will never work because the intermediate object on which we are setting values always behaves as a copy.\n",
      "\n",
      "For example, when doing 'df[col].method(value, inplace=True)', try using 'df.method({col: value}, inplace=True)' or df[col] = df[col].method(value) instead, to perform the operation inplace on the original object.\n",
      "\n",
      "\n",
      "  df['Value'].fillna(0, inplace=True)\n",
      "C:\\Users\\sharm\\AppData\\Local\\Temp\\ipykernel_4344\\4205344510.py:25: FutureWarning: A value is trying to be set on a copy of a DataFrame or Series through chained assignment using an inplace method.\n",
      "The behavior will change in pandas 3.0. This inplace method will never work because the intermediate object on which we are setting values always behaves as a copy.\n",
      "\n",
      "For example, when doing 'df[col].method(value, inplace=True)', try using 'df.method({col: value}, inplace=True)' or df[col] = df[col].method(value) instead, to perform the operation inplace on the original object.\n",
      "\n",
      "\n",
      "  df['Value'].fillna(0, inplace=True)\n",
      "C:\\Users\\sharm\\AppData\\Local\\Temp\\ipykernel_4344\\4205344510.py:25: FutureWarning: A value is trying to be set on a copy of a DataFrame or Series through chained assignment using an inplace method.\n",
      "The behavior will change in pandas 3.0. This inplace method will never work because the intermediate object on which we are setting values always behaves as a copy.\n",
      "\n",
      "For example, when doing 'df[col].method(value, inplace=True)', try using 'df.method({col: value}, inplace=True)' or df[col] = df[col].method(value) instead, to perform the operation inplace on the original object.\n",
      "\n",
      "\n",
      "  df['Value'].fillna(0, inplace=True)\n",
      "C:\\Users\\sharm\\AppData\\Local\\Temp\\ipykernel_4344\\4205344510.py:25: FutureWarning: A value is trying to be set on a copy of a DataFrame or Series through chained assignment using an inplace method.\n",
      "The behavior will change in pandas 3.0. This inplace method will never work because the intermediate object on which we are setting values always behaves as a copy.\n",
      "\n",
      "For example, when doing 'df[col].method(value, inplace=True)', try using 'df.method({col: value}, inplace=True)' or df[col] = df[col].method(value) instead, to perform the operation inplace on the original object.\n",
      "\n",
      "\n",
      "  df['Value'].fillna(0, inplace=True)\n",
      "C:\\Users\\sharm\\AppData\\Local\\Temp\\ipykernel_4344\\4205344510.py:25: FutureWarning: A value is trying to be set on a copy of a DataFrame or Series through chained assignment using an inplace method.\n",
      "The behavior will change in pandas 3.0. This inplace method will never work because the intermediate object on which we are setting values always behaves as a copy.\n",
      "\n",
      "For example, when doing 'df[col].method(value, inplace=True)', try using 'df.method({col: value}, inplace=True)' or df[col] = df[col].method(value) instead, to perform the operation inplace on the original object.\n",
      "\n",
      "\n",
      "  df['Value'].fillna(0, inplace=True)\n",
      "C:\\Users\\sharm\\AppData\\Local\\Temp\\ipykernel_4344\\4205344510.py:25: FutureWarning: A value is trying to be set on a copy of a DataFrame or Series through chained assignment using an inplace method.\n",
      "The behavior will change in pandas 3.0. This inplace method will never work because the intermediate object on which we are setting values always behaves as a copy.\n",
      "\n",
      "For example, when doing 'df[col].method(value, inplace=True)', try using 'df.method({col: value}, inplace=True)' or df[col] = df[col].method(value) instead, to perform the operation inplace on the original object.\n",
      "\n",
      "\n",
      "  df['Value'].fillna(0, inplace=True)\n",
      "C:\\Users\\sharm\\AppData\\Local\\Temp\\ipykernel_4344\\4205344510.py:25: FutureWarning: A value is trying to be set on a copy of a DataFrame or Series through chained assignment using an inplace method.\n",
      "The behavior will change in pandas 3.0. This inplace method will never work because the intermediate object on which we are setting values always behaves as a copy.\n",
      "\n",
      "For example, when doing 'df[col].method(value, inplace=True)', try using 'df.method({col: value}, inplace=True)' or df[col] = df[col].method(value) instead, to perform the operation inplace on the original object.\n",
      "\n",
      "\n",
      "  df['Value'].fillna(0, inplace=True)\n",
      "C:\\Users\\sharm\\AppData\\Local\\Temp\\ipykernel_4344\\4205344510.py:25: FutureWarning: A value is trying to be set on a copy of a DataFrame or Series through chained assignment using an inplace method.\n",
      "The behavior will change in pandas 3.0. This inplace method will never work because the intermediate object on which we are setting values always behaves as a copy.\n",
      "\n",
      "For example, when doing 'df[col].method(value, inplace=True)', try using 'df.method({col: value}, inplace=True)' or df[col] = df[col].method(value) instead, to perform the operation inplace on the original object.\n",
      "\n",
      "\n",
      "  df['Value'].fillna(0, inplace=True)\n",
      "C:\\Users\\sharm\\AppData\\Local\\Temp\\ipykernel_4344\\4205344510.py:25: FutureWarning: A value is trying to be set on a copy of a DataFrame or Series through chained assignment using an inplace method.\n",
      "The behavior will change in pandas 3.0. This inplace method will never work because the intermediate object on which we are setting values always behaves as a copy.\n",
      "\n",
      "For example, when doing 'df[col].method(value, inplace=True)', try using 'df.method({col: value}, inplace=True)' or df[col] = df[col].method(value) instead, to perform the operation inplace on the original object.\n",
      "\n",
      "\n",
      "  df['Value'].fillna(0, inplace=True)\n"
     ]
    },
    {
     "name": "stdout",
     "output_type": "stream",
     "text": [
      "          country        Date  Value  Variant\n",
      "0     Afghanistan  2019-12-29    0.0  Omicron\n",
      "1         Albania  2019-12-29    0.0  Omicron\n",
      "2         Algeria  2019-12-29    0.0  Omicron\n",
      "3  American Samoa  2019-12-29    0.0  Omicron\n",
      "4         Andorra  2019-12-29    0.0  Omicron\n"
     ]
    },
    {
     "name": "stderr",
     "output_type": "stream",
     "text": [
      "C:\\Users\\sharm\\AppData\\Local\\Temp\\ipykernel_4344\\4205344510.py:25: FutureWarning: A value is trying to be set on a copy of a DataFrame or Series through chained assignment using an inplace method.\n",
      "The behavior will change in pandas 3.0. This inplace method will never work because the intermediate object on which we are setting values always behaves as a copy.\n",
      "\n",
      "For example, when doing 'df[col].method(value, inplace=True)', try using 'df.method({col: value}, inplace=True)' or df[col] = df[col].method(value) instead, to perform the operation inplace on the original object.\n",
      "\n",
      "\n",
      "  df['Value'].fillna(0, inplace=True)\n"
     ]
    }
   ],
   "source": [
    "# List to store all DataFrames\n",
    "all_dfs = []\n",
    "\n",
    "# Loop through the sheet names starting from the second sheet\n",
    "for sheet_name in excel_data.sheet_names[1:]:\n",
    "    # Read the sheet into a DataFrame\n",
    "    df = pd.read_excel(excel_data, sheet_name=sheet_name)\n",
    "    \n",
    "    # Extract the variant name from the sheet name\n",
    "    variant_name = sheet_name.split()[-1]\n",
    "    \n",
    "    # Rename the first column to 'country'\n",
    "    df.columns = ['country'] + list(df.columns[1:])\n",
    "    \n",
    "    # Remove rows where the 'country' column has NaN values\n",
    "    df = df.dropna(subset=['country'])\n",
    "    \n",
    "    # Remove the second column\n",
    "    df.drop(df.columns[1], axis=1, inplace=True)\n",
    "    \n",
    "    # Reshape the DataFrame\n",
    "    df = pd.melt(df, id_vars=['country'], var_name='Date', value_name='Value')\n",
    "    \n",
    "    # Change NaN values to 0 in the 'Value' column\n",
    "    df['Value'].fillna(0, inplace=True)\n",
    "    \n",
    "    # Add a column for the variant name\n",
    "    df['Variant'] = variant_name\n",
    "    \n",
    "    # Append the DataFrame to the list\n",
    "    all_dfs.append(df)\n",
    "    \n",
    "\n",
    "# Combine all DataFrames into one\n",
    "combined_df = pd.concat(all_dfs, ignore_index=True)\n",
    "\n",
    "# Display the first few rows of the combined DataFrame to verify\n",
    "print(combined_df.head())\n"
   ]
  },
  {
   "cell_type": "code",
   "execution_count": 19,
   "id": "bbf97906",
   "metadata": {},
   "outputs": [
    {
     "data": {
      "text/plain": [
       "array(['Omicron', 'Delta', 'Alpha', 'Beta', 'Gamma', 'Epsilon', 'Zeta',\n",
       "       'Eta', 'Theta', 'Iota', 'Kappa', 'Lambda'], dtype=object)"
      ]
     },
     "execution_count": 19,
     "metadata": {},
     "output_type": "execute_result"
    }
   ],
   "source": [
    "combined_df['Variant'].unique()"
   ]
  },
  {
   "cell_type": "code",
   "execution_count": null,
   "id": "3fc7d4d9",
   "metadata": {},
   "outputs": [],
   "source": []
  }
 ],
 "metadata": {
  "kernelspec": {
   "display_name": "Python 3 (ipykernel)",
   "language": "python",
   "name": "python3"
  },
  "language_info": {
   "codemirror_mode": {
    "name": "ipython",
    "version": 3
   },
   "file_extension": ".py",
   "mimetype": "text/x-python",
   "name": "python",
   "nbconvert_exporter": "python",
   "pygments_lexer": "ipython3",
   "version": "3.9.12"
  }
 },
 "nbformat": 4,
 "nbformat_minor": 5
}
